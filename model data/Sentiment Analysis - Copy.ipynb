{
 "cells": [
  {
   "cell_type": "markdown",
   "metadata": {},
   "source": [
    "# Emotion Detection Of Text"
   ]
  },
  {
   "cell_type": "code",
   "execution_count": 1,
   "metadata": {},
   "outputs": [],
   "source": [
    "#Loading packages\n",
    "import pandas as pd\n",
    "import numpy as np"
   ]
  },
  {
   "cell_type": "code",
   "execution_count": 2,
   "metadata": {},
   "outputs": [],
   "source": [
    "import re\n",
    "import tweepy\n",
    "from tweepy import OAuthHandler"
   ]
  },
  {
   "cell_type": "code",
   "execution_count": 3,
   "metadata": {},
   "outputs": [],
   "source": [
    "#Loading data plotting packages\n",
    "import matplotlib.pyplot as plt\n",
    "import seaborn as sns"
   ]
  },
  {
   "cell_type": "code",
   "execution_count": 4,
   "metadata": {},
   "outputs": [],
   "source": [
    "#Loading text cleaning packages\n",
    "import neattext.functions as nfx"
   ]
  },
  {
   "cell_type": "code",
   "execution_count": 5,
   "metadata": {},
   "outputs": [],
   "source": [
    "#Twitter keys\n",
    "import os\n",
    "consumerKey = os.environ.get('consumerKey')\n",
    "consumerKeySecret = os.environ.get('consumerKeySecret')\n",
    "accessToken = os.environ.get('accessToken')\n",
    "accessTokenSecret = os.environ.get('accessTokenSecret')"
   ]
  },
  {
   "cell_type": "code",
   "execution_count": 6,
   "metadata": {},
   "outputs": [],
   "source": [
    "#Twitter authentication\n",
    "authenticate = tweepy.OAuthHandler(consumerKey, consumerKeySecret)\n",
    "authenticate.set_access_token(accessToken, accessTokenSecret)\n",
    "api = tweepy.API(authenticate, wait_on_rate_limit = True)"
   ]
  },
  {
   "cell_type": "code",
   "execution_count": 7,
   "metadata": {},
   "outputs": [],
   "source": [
    "client = tweepy.Client(bearer_token='AAAAAAAAAAAAAAAAAAAAALRqXAEAAAAAUbngmJpG%2B2UsCz8n7zRjtnHM1tU%3DMcXUdpsohSYq5QKsIFEEXeukm4DOSnLcu6EAzoPb1OaknooGeK')\n",
    "\n",
    "# id = api.get_user('BillGates').id_str\n",
    "# the screen name of the user\n",
    "screen_name = \"BillGates\"\n",
    "  \n",
    "# fetching the user\n",
    "user = client.get_user(username=screen_name)\n",
    "  \n",
    "ID = user.data['id']\n",
    "\n",
    "tweets = client.get_users_tweets(id=ID, max_results=100)\n",
    "# i = 1;\n",
    "# for tweet in tweets.data:\n",
    "#     print(i)\n",
    "#     print(tweet)\n",
    "#     i = i + 1\n",
    "tDict = {}\n",
    "for i in range(0, tweets.meta['result_count']):\n",
    "    tDict[i] = tweets.data[i].text\n",
    "#     print(tweets.data[i].text)"
   ]
  },
  {
   "cell_type": "code",
   "execution_count": 8,
   "metadata": {},
   "outputs": [
    {
     "data": {
      "text/html": [
       "<div>\n",
       "<style scoped>\n",
       "    .dataframe tbody tr th:only-of-type {\n",
       "        vertical-align: middle;\n",
       "    }\n",
       "\n",
       "    .dataframe tbody tr th {\n",
       "        vertical-align: top;\n",
       "    }\n",
       "\n",
       "    .dataframe thead th {\n",
       "        text-align: right;\n",
       "    }\n",
       "</style>\n",
       "<table border=\"1\" class=\"dataframe\">\n",
       "  <thead>\n",
       "    <tr style=\"text-align: right;\">\n",
       "      <th></th>\n",
       "      <th>S_No</th>\n",
       "      <th>Tweet</th>\n",
       "    </tr>\n",
       "  </thead>\n",
       "  <tbody>\n",
       "    <tr>\n",
       "      <th>0</th>\n",
       "      <td>0</td>\n",
       "      <td>We’ve built an incredible organization in the ...</td>\n",
       "    </tr>\n",
       "    <tr>\n",
       "      <th>1</th>\n",
       "      <td>1</td>\n",
       "      <td>Kakenya Ntaiya bravely defied local traditions...</td>\n",
       "    </tr>\n",
       "    <tr>\n",
       "      <th>2</th>\n",
       "      <td>2</td>\n",
       "      <td>One person’s act of bravery can spark dramatic...</td>\n",
       "    </tr>\n",
       "    <tr>\n",
       "      <th>3</th>\n",
       "      <td>3</td>\n",
       "      <td>This is an important reminder from @rajpanjabi...</td>\n",
       "    </tr>\n",
       "    <tr>\n",
       "      <th>4</th>\n",
       "      <td>4</td>\n",
       "      <td>I wholeheartedly agree with Larry's view that ...</td>\n",
       "    </tr>\n",
       "  </tbody>\n",
       "</table>\n",
       "</div>"
      ],
      "text/plain": [
       "   S_No                                              Tweet\n",
       "0     0  We’ve built an incredible organization in the ...\n",
       "1     1  Kakenya Ntaiya bravely defied local traditions...\n",
       "2     2  One person’s act of bravery can spark dramatic...\n",
       "3     3  This is an important reminder from @rajpanjabi...\n",
       "4     4  I wholeheartedly agree with Larry's view that ..."
      ]
     },
     "execution_count": 8,
     "metadata": {},
     "output_type": "execute_result"
    }
   ],
   "source": [
    "tDF = pd.DataFrame(tDict.items(), columns=['S_No', 'Tweet'])\n",
    "tDF.head()"
   ]
  },
  {
   "cell_type": "code",
   "execution_count": 9,
   "metadata": {},
   "outputs": [],
   "source": [
    "#Loading dataset\n",
    "df = pd.read_csv(\"Hope.csv\")"
   ]
  },
  {
   "cell_type": "code",
   "execution_count": 10,
   "metadata": {},
   "outputs": [
    {
     "data": {
      "text/html": [
       "<div>\n",
       "<style scoped>\n",
       "    .dataframe tbody tr th:only-of-type {\n",
       "        vertical-align: middle;\n",
       "    }\n",
       "\n",
       "    .dataframe tbody tr th {\n",
       "        vertical-align: top;\n",
       "    }\n",
       "\n",
       "    .dataframe thead th {\n",
       "        text-align: right;\n",
       "    }\n",
       "</style>\n",
       "<table border=\"1\" class=\"dataframe\">\n",
       "  <thead>\n",
       "    <tr style=\"text-align: right;\">\n",
       "      <th></th>\n",
       "      <th>Emotion</th>\n",
       "      <th>Text</th>\n",
       "    </tr>\n",
       "  </thead>\n",
       "  <tbody>\n",
       "    <tr>\n",
       "      <th>0</th>\n",
       "      <td>sadness</td>\n",
       "      <td>i didnt feel humiliated</td>\n",
       "    </tr>\n",
       "    <tr>\n",
       "      <th>1</th>\n",
       "      <td>sadness</td>\n",
       "      <td>i can go from feeling so hopeless to so damned...</td>\n",
       "    </tr>\n",
       "    <tr>\n",
       "      <th>2</th>\n",
       "      <td>anger</td>\n",
       "      <td>im grabbing a minute to post i feel greedy wrong</td>\n",
       "    </tr>\n",
       "    <tr>\n",
       "      <th>3</th>\n",
       "      <td>anger</td>\n",
       "      <td>i am feeling grouchy</td>\n",
       "    </tr>\n",
       "    <tr>\n",
       "      <th>4</th>\n",
       "      <td>sadness</td>\n",
       "      <td>ive been feeling a little burdened lately wasn...</td>\n",
       "    </tr>\n",
       "  </tbody>\n",
       "</table>\n",
       "</div>"
      ],
      "text/plain": [
       "   Emotion                                               Text\n",
       "0  sadness                            i didnt feel humiliated\n",
       "1  sadness  i can go from feeling so hopeless to so damned...\n",
       "2    anger   im grabbing a minute to post i feel greedy wrong\n",
       "3    anger                               i am feeling grouchy\n",
       "4  sadness  ive been feeling a little burdened lately wasn..."
      ]
     },
     "execution_count": 10,
     "metadata": {},
     "output_type": "execute_result"
    }
   ],
   "source": [
    "df.head()"
   ]
  },
  {
   "cell_type": "code",
   "execution_count": 11,
   "metadata": {},
   "outputs": [
    {
     "data": {
      "text/plain": [
       "(19593, 2)"
      ]
     },
     "execution_count": 11,
     "metadata": {},
     "output_type": "execute_result"
    }
   ],
   "source": [
    "#Getting the rows and columns of the dataset\n",
    "df.shape"
   ]
  },
  {
   "cell_type": "code",
   "execution_count": 12,
   "metadata": {},
   "outputs": [
    {
     "data": {
      "text/plain": [
       "Emotion    object\n",
       "Text       object\n",
       "dtype: object"
      ]
     },
     "execution_count": 12,
     "metadata": {},
     "output_type": "execute_result"
    }
   ],
   "source": [
    "#Returns the datatype of each column\n",
    "df.dtypes"
   ]
  },
  {
   "cell_type": "code",
   "execution_count": 13,
   "metadata": {},
   "outputs": [
    {
     "data": {
      "text/plain": [
       "Emotion    0\n",
       "Text       0\n",
       "dtype: int64"
      ]
     },
     "execution_count": 13,
     "metadata": {},
     "output_type": "execute_result"
    }
   ],
   "source": [
    "#Checking for missing values\n",
    "df.isnull().sum()"
   ]
  },
  {
   "cell_type": "code",
   "execution_count": 14,
   "metadata": {},
   "outputs": [
    {
     "data": {
      "text/plain": [
       "joy        6761\n",
       "sadness    5797\n",
       "anger      2709\n",
       "fear       2373\n",
       "neutral    1953\n",
       "Name: Emotion, dtype: int64"
      ]
     },
     "execution_count": 14,
     "metadata": {},
     "output_type": "execute_result"
    }
   ],
   "source": [
    "#Counts of different emotions\n",
    "df['Emotion'].value_counts()"
   ]
  },
  {
   "cell_type": "code",
   "execution_count": 15,
   "metadata": {},
   "outputs": [
    {
     "data": {
      "image/png": "[encoded data removed]",
      "text/plain": [
       "<Figure size 720x360 with 1 Axes>"
      ]
     },
     "metadata": {
      "needs_background": "light"
     },
     "output_type": "display_data"
    }
   ],
   "source": [
    "#Plotting the emotion values using Matplotlib\n",
    "plt.figure(figsize=(10, 5))\n",
    "df['Emotion'].value_counts().plot(kind='bar')\n",
    "plt.show()"
   ]
  },
  {
   "cell_type": "code",
   "execution_count": 16,
   "metadata": {},
   "outputs": [
    {
     "data": {
      "text/plain": [
       "<function matplotlib.pyplot.show(*args, **kw)>"
      ]
     },
     "execution_count": 16,
     "metadata": {},
     "output_type": "execute_result"
    },
    {
     "data": {
      "image/png": "[encoded data removed]",
      "text/plain": [
       "<Figure size 720x360 with 1 Axes>"
      ]
     },
     "metadata": {
      "needs_background": "light"
     },
     "output_type": "display_data"
    }
   ],
   "source": [
    "#Plotting the dataset using seaborn\n",
    "plt.figure(figsize=(10, 5))\n",
    "sns.countplot(x='Emotion', data=df)\n",
    "plt.show"
   ]
  },
  {
   "cell_type": "markdown",
   "metadata": {},
   "source": [
    "### Exploration\n",
    "+ Sentiment Analysis\n",
    "+ Keyword Extraction\n",
    "    - Keywords for each emotion (basically most common keywords which caused that particular emotion)\n",
    "    - Wordcloud"
   ]
  },
  {
   "cell_type": "code",
   "execution_count": 17,
   "metadata": {},
   "outputs": [],
   "source": [
    "#Sentiment Analysis\n",
    "from textblob import TextBlob\n",
    "# TextBlob is a Python (2 and 3) library for processing textual data. It provides a simple API for diving into common natural \n",
    "# language processing (NLP) tasks such as part-of-speech tagging, noun phrase extraction, sentiment analysis, classification, \n",
    "# translation, and more."
   ]
  },
  {
   "cell_type": "code",
   "execution_count": 18,
   "metadata": {},
   "outputs": [],
   "source": [
    "#A simple function to check if our sentence is positive, negative or neutral\n",
    "def get_sentiment(text):\n",
    "    blob = TextBlob(text)\n",
    "    sentiment = blob.sentiment.polarity\n",
    "    if sentiment > 0:\n",
    "        result = \"positive\"\n",
    "    elif sentiment < 0:\n",
    "        result = \"negative\"\n",
    "    else:\n",
    "        result = \"neutral\"\n",
    "    return result"
   ]
  },
  {
   "cell_type": "code",
   "execution_count": 19,
   "metadata": {},
   "outputs": [
    {
     "name": "stdout",
     "output_type": "stream",
     "text": [
      "positive\n"
     ]
    }
   ],
   "source": [
    "#Testing get_sentiment function\n",
    "result = get_sentiment(\"Jupyter notebooks are one of the best\")\n",
    "print(result)"
   ]
  },
  {
   "cell_type": "code",
   "execution_count": 20,
   "metadata": {},
   "outputs": [],
   "source": [
    "#Applying the get_sentiment function on all of our 'Text' column to check if those sentences are positive, negative or neutral\n",
    "df['Sentiment'] = df['Text'].apply(get_sentiment)"
   ]
  },
  {
   "cell_type": "code",
   "execution_count": 21,
   "metadata": {},
   "outputs": [
    {
     "data": {
      "text/html": [
       "<div>\n",
       "<style scoped>\n",
       "    .dataframe tbody tr th:only-of-type {\n",
       "        vertical-align: middle;\n",
       "    }\n",
       "\n",
       "    .dataframe tbody tr th {\n",
       "        vertical-align: top;\n",
       "    }\n",
       "\n",
       "    .dataframe thead th {\n",
       "        text-align: right;\n",
       "    }\n",
       "</style>\n",
       "<table border=\"1\" class=\"dataframe\">\n",
       "  <thead>\n",
       "    <tr style=\"text-align: right;\">\n",
       "      <th></th>\n",
       "      <th>Emotion</th>\n",
       "      <th>Text</th>\n",
       "      <th>Sentiment</th>\n",
       "    </tr>\n",
       "  </thead>\n",
       "  <tbody>\n",
       "    <tr>\n",
       "      <th>0</th>\n",
       "      <td>sadness</td>\n",
       "      <td>i didnt feel humiliated</td>\n",
       "      <td>neutral</td>\n",
       "    </tr>\n",
       "    <tr>\n",
       "      <th>1</th>\n",
       "      <td>sadness</td>\n",
       "      <td>i can go from feeling so hopeless to so damned...</td>\n",
       "      <td>neutral</td>\n",
       "    </tr>\n",
       "    <tr>\n",
       "      <th>2</th>\n",
       "      <td>anger</td>\n",
       "      <td>im grabbing a minute to post i feel greedy wrong</td>\n",
       "      <td>negative</td>\n",
       "    </tr>\n",
       "    <tr>\n",
       "      <th>3</th>\n",
       "      <td>anger</td>\n",
       "      <td>i am feeling grouchy</td>\n",
       "      <td>neutral</td>\n",
       "    </tr>\n",
       "    <tr>\n",
       "      <th>4</th>\n",
       "      <td>sadness</td>\n",
       "      <td>ive been feeling a little burdened lately wasn...</td>\n",
       "      <td>positive</td>\n",
       "    </tr>\n",
       "  </tbody>\n",
       "</table>\n",
       "</div>"
      ],
      "text/plain": [
       "   Emotion                                               Text Sentiment\n",
       "0  sadness                            i didnt feel humiliated   neutral\n",
       "1  sadness  i can go from feeling so hopeless to so damned...   neutral\n",
       "2    anger   im grabbing a minute to post i feel greedy wrong  negative\n",
       "3    anger                               i am feeling grouchy   neutral\n",
       "4  sadness  ive been feeling a little burdened lately wasn...  positive"
      ]
     },
     "execution_count": 21,
     "metadata": {},
     "output_type": "execute_result"
    }
   ],
   "source": [
    "df.head()"
   ]
  },
  {
   "cell_type": "code",
   "execution_count": 22,
   "metadata": {},
   "outputs": [
    {
     "data": {
      "text/plain": [
       "Emotion  Sentiment\n",
       "anger    negative     1311\n",
       "         neutral       674\n",
       "         positive      724\n",
       "fear     negative     1072\n",
       "         neutral       558\n",
       "         positive      743\n",
       "joy      negative      737\n",
       "         neutral       975\n",
       "         positive     5049\n",
       "neutral  negative      435\n",
       "         neutral       736\n",
       "         positive      782\n",
       "sadness  negative     2775\n",
       "         neutral      1432\n",
       "         positive     1590\n",
       "dtype: int64"
      ]
     },
     "execution_count": 22,
     "metadata": {},
     "output_type": "execute_result"
    }
   ],
   "source": [
    "#Comparing Emotions vs Sentiments\n",
    "df.groupby(['Emotion', 'Sentiment']).size()"
   ]
  },
  {
   "cell_type": "code",
   "execution_count": 23,
   "metadata": {},
   "outputs": [
    {
     "data": {
      "image/png": "[encoded data removed]",
      "text/plain": [
       "<Figure size 720x360 with 1 Axes>"
      ]
     },
     "metadata": {
      "needs_background": "light"
     },
     "output_type": "display_data"
    }
   ],
   "source": [
    "#Plotting the grouped data using Matplotlib\n",
    "plt.figure(figsize=(10, 5))\n",
    "df.groupby(['Emotion', 'Sentiment']).size().plot(kind='bar')\n",
    "plt.show()"
   ]
  },
  {
   "cell_type": "code",
   "execution_count": 24,
   "metadata": {},
   "outputs": [
    {
     "data": {
      "text/plain": [
       "<seaborn.axisgrid.FacetGrid at 0x275d9b0f948>"
      ]
     },
     "execution_count": 24,
     "metadata": {},
     "output_type": "execute_result"
    },
    {
     "data": {
      "image/png": "[encoded data removed]",
      "text/plain": [
       "<Figure size 799.75x360 with 1 Axes>"
      ]
     },
     "metadata": {
      "needs_background": "light"
     },
     "output_type": "display_data"
    }
   ],
   "source": [
    "#Plotting the grouped data using Seaborn\n",
    "sns.catplot(x='Emotion', hue='Sentiment', data=df, kind='count', height=5, aspect=2)"
   ]
  },
  {
   "cell_type": "markdown",
   "metadata": {},
   "source": [
    "# Text Cleaning\n",
    "\n",
    "### Removing Noise\n",
    "\n",
    "+ Removing noise can include:\n",
    "    - stopwords\n",
    "    - special characters\n",
    "    - punctuations\n",
    "    - user handles\n"
   ]
  },
  {
   "cell_type": "code",
   "execution_count": 25,
   "metadata": {},
   "outputs": [],
   "source": [
    "#Text Cleaning\n",
    "df['Clean_Text'] = df['Text'].apply(nfx.remove_urls)"
   ]
  },
  {
   "cell_type": "code",
   "execution_count": 26,
   "metadata": {},
   "outputs": [],
   "source": [
    "df['Clean_Text'] = df['Clean_Text'].apply(nfx.remove_stopwords)"
   ]
  },
  {
   "cell_type": "code",
   "execution_count": 27,
   "metadata": {},
   "outputs": [],
   "source": [
    "df['Clean_Text'] = df['Clean_Text'].apply(nfx.remove_userhandles)"
   ]
  },
  {
   "cell_type": "code",
   "execution_count": 28,
   "metadata": {},
   "outputs": [],
   "source": [
    "df['Clean_Text'] = df['Clean_Text'].apply(nfx.remove_punctuations)"
   ]
  },
  {
   "cell_type": "code",
   "execution_count": 29,
   "metadata": {},
   "outputs": [],
   "source": [
    "df['Clean_Text'] = df['Clean_Text'].apply(nfx.remove_numbers)"
   ]
  },
  {
   "cell_type": "code",
   "execution_count": 30,
   "metadata": {},
   "outputs": [],
   "source": [
    "df['Clean_Text'] = df['Clean_Text'].apply(nfx.remove_special_characters)"
   ]
  },
  {
   "cell_type": "code",
   "execution_count": 31,
   "metadata": {
    "scrolled": true
   },
   "outputs": [
    {
     "data": {
      "text/html": [
       "<div>\n",
       "<style scoped>\n",
       "    .dataframe tbody tr th:only-of-type {\n",
       "        vertical-align: middle;\n",
       "    }\n",
       "\n",
       "    .dataframe tbody tr th {\n",
       "        vertical-align: top;\n",
       "    }\n",
       "\n",
       "    .dataframe thead th {\n",
       "        text-align: right;\n",
       "    }\n",
       "</style>\n",
       "<table border=\"1\" class=\"dataframe\">\n",
       "  <thead>\n",
       "    <tr style=\"text-align: right;\">\n",
       "      <th></th>\n",
       "      <th>Text</th>\n",
       "      <th>Clean_Text</th>\n",
       "    </tr>\n",
       "  </thead>\n",
       "  <tbody>\n",
       "    <tr>\n",
       "      <th>0</th>\n",
       "      <td>i didnt feel humiliated</td>\n",
       "      <td>didnt feel humiliated</td>\n",
       "    </tr>\n",
       "    <tr>\n",
       "      <th>1</th>\n",
       "      <td>i can go from feeling so hopeless to so damned...</td>\n",
       "      <td>feeling hopeless damned hopeful cares awake</td>\n",
       "    </tr>\n",
       "    <tr>\n",
       "      <th>2</th>\n",
       "      <td>im grabbing a minute to post i feel greedy wrong</td>\n",
       "      <td>im grabbing minute post feel greedy wrong</td>\n",
       "    </tr>\n",
       "    <tr>\n",
       "      <th>3</th>\n",
       "      <td>i am feeling grouchy</td>\n",
       "      <td>feeling grouchy</td>\n",
       "    </tr>\n",
       "    <tr>\n",
       "      <th>4</th>\n",
       "      <td>ive been feeling a little burdened lately wasn...</td>\n",
       "      <td>ive feeling little burdened lately wasnt sure</td>\n",
       "    </tr>\n",
       "    <tr>\n",
       "      <th>...</th>\n",
       "      <td>...</td>\n",
       "      <td>...</td>\n",
       "    </tr>\n",
       "    <tr>\n",
       "      <th>19588</th>\n",
       "      <td>If Wenger is in Paris. Could it be for Cavani ...</td>\n",
       "      <td>Wenger Paris Cavani ZlatanThen family break</td>\n",
       "    </tr>\n",
       "    <tr>\n",
       "      <th>19589</th>\n",
       "      <td>Goal level: Zlatan  90k by Friday? = Posting e...</td>\n",
       "      <td>Goal level Zlatan k Friday  Posting day DSGS V...</td>\n",
       "    </tr>\n",
       "    <tr>\n",
       "      <th>19590</th>\n",
       "      <td>@YouAreMyArsenal Wouldn't surprise me if we en...</td>\n",
       "      <td>surprise enquiredHe cant  happy playing nd f...</td>\n",
       "    </tr>\n",
       "    <tr>\n",
       "      <th>19591</th>\n",
       "      <td>Rib injury for Zlatan against Russia is a big ...</td>\n",
       "      <td>Rib injury Zlatan Russia big blow misses Austr...</td>\n",
       "    </tr>\n",
       "    <tr>\n",
       "      <th>19592</th>\n",
       "      <td>Noooooo! I was hoping to see Zlatan being Zlat...</td>\n",
       "      <td>Noooooo hoping Zlatan Zlatan Tuesday Oh well l...</td>\n",
       "    </tr>\n",
       "  </tbody>\n",
       "</table>\n",
       "<p>19593 rows × 2 columns</p>\n",
       "</div>"
      ],
      "text/plain": [
       "                                                    Text  \\\n",
       "0                                i didnt feel humiliated   \n",
       "1      i can go from feeling so hopeless to so damned...   \n",
       "2       im grabbing a minute to post i feel greedy wrong   \n",
       "3                                   i am feeling grouchy   \n",
       "4      ive been feeling a little burdened lately wasn...   \n",
       "...                                                  ...   \n",
       "19588  If Wenger is in Paris. Could it be for Cavani ...   \n",
       "19589  Goal level: Zlatan  90k by Friday? = Posting e...   \n",
       "19590  @YouAreMyArsenal Wouldn't surprise me if we en...   \n",
       "19591  Rib injury for Zlatan against Russia is a big ...   \n",
       "19592  Noooooo! I was hoping to see Zlatan being Zlat...   \n",
       "\n",
       "                                              Clean_Text  \n",
       "0                                  didnt feel humiliated  \n",
       "1            feeling hopeless damned hopeful cares awake  \n",
       "2              im grabbing minute post feel greedy wrong  \n",
       "3                                        feeling grouchy  \n",
       "4          ive feeling little burdened lately wasnt sure  \n",
       "...                                                  ...  \n",
       "19588        Wenger Paris Cavani ZlatanThen family break  \n",
       "19589  Goal level Zlatan k Friday  Posting day DSGS V...  \n",
       "19590    surprise enquiredHe cant  happy playing nd f...  \n",
       "19591  Rib injury Zlatan Russia big blow misses Austr...  \n",
       "19592  Noooooo hoping Zlatan Zlatan Tuesday Oh well l...  \n",
       "\n",
       "[19593 rows x 2 columns]"
      ]
     },
     "execution_count": 31,
     "metadata": {},
     "output_type": "execute_result"
    }
   ],
   "source": [
    "df[['Text', 'Clean_Text']]"
   ]
  },
  {
   "cell_type": "markdown",
   "metadata": {},
   "source": [
    "# Keyword Extraction\n",
    "\n",
    "+ Objective is to extract the most common words for each emotion"
   ]
  },
  {
   "cell_type": "code",
   "execution_count": 32,
   "metadata": {},
   "outputs": [],
   "source": [
    "from collections import Counter"
   ]
  },
  {
   "cell_type": "code",
   "execution_count": 33,
   "metadata": {},
   "outputs": [],
   "source": [
    "#Extracting most common keywords from 'text'\n",
    "def extract_keywords(text, num=50):\n",
    "    tokens = [tok for tok in text.split()]\n",
    "    most_common_tokens = Counter(tokens).most_common(num)\n",
    "    return dict(most_common_tokens)"
   ]
  },
  {
   "cell_type": "code",
   "execution_count": 34,
   "metadata": {},
   "outputs": [],
   "source": [
    "#Grabbing the list of emotions\n",
    "emotion_list = df['Emotion'].unique().tolist()"
   ]
  },
  {
   "cell_type": "code",
   "execution_count": 35,
   "metadata": {},
   "outputs": [
    {
     "data": {
      "text/plain": [
       "['sadness', 'anger', 'fear', 'joy', 'neutral']"
      ]
     },
     "execution_count": 35,
     "metadata": {},
     "output_type": "execute_result"
    }
   ],
   "source": [
    "emotion_list"
   ]
  },
  {
   "cell_type": "code",
   "execution_count": 36,
   "metadata": {},
   "outputs": [],
   "source": [
    "joy_list = df[df['Emotion'] == 'joy']['Clean_Text'].tolist()"
   ]
  },
  {
   "cell_type": "code",
   "execution_count": 37,
   "metadata": {},
   "outputs": [],
   "source": [
    "#Combining all the 'joy' sentences into one\n",
    "joy_docs = ' '.join(joy_list)"
   ]
  },
  {
   "cell_type": "code",
   "execution_count": 38,
   "metadata": {},
   "outputs": [],
   "source": [
    "#Extracting most common keywords for 'joy' emotion\n",
    "joy_keywords = extract_keywords(joy_docs)"
   ]
  },
  {
   "cell_type": "code",
   "execution_count": 39,
   "metadata": {},
   "outputs": [],
   "source": [
    "#Plotting a dictionary\n",
    "def plot_most_common_words(mydict):\n",
    "    df_01 = pd.DataFrame(mydict.items(), columns=['token', 'count'])\n",
    "    plt.figure(figsize=(20, 10))\n",
    "    sns.barplot(x='token', y='count', data=df_01)\n",
    "    plt.xticks(rotation=45)\n",
    "    plt.show()"
   ]
  },
  {
   "cell_type": "code",
   "execution_count": 40,
   "metadata": {},
   "outputs": [
    {
     "data": {
      "image/png": "[encoded data removed]",
      "text/plain": [
       "<Figure size 1440x720 with 1 Axes>"
      ]
     },
     "metadata": {
      "needs_background": "light"
     },
     "output_type": "display_data"
    }
   ],
   "source": [
    "#Plotting the most common keywords from the emotion 'Joy' \n",
    "plot_most_common_words(joy_keywords)"
   ]
  },
  {
   "cell_type": "markdown",
   "metadata": {},
   "source": [
    "# Machine Learning Aspects:\n",
    "\n",
    "+ Naive Bayes"
   ]
  },
  {
   "cell_type": "code",
   "execution_count": 41,
   "metadata": {},
   "outputs": [],
   "source": [
    "#Loading machine learning packages\n",
    "from sklearn.naive_bayes import MultinomialNB\n",
    "\n",
    "#Vectorizer\n",
    "from sklearn.feature_extraction.text import CountVectorizer,TfidfVectorizer\n",
    "\n",
    "#Metrics\n",
    "from sklearn.metrics import accuracy_score,confusion_matrix,classification_report,plot_confusion_matrix"
   ]
  },
  {
   "cell_type": "code",
   "execution_count": 42,
   "metadata": {},
   "outputs": [],
   "source": [
    "#Dataset Splitting\n",
    "from sklearn.model_selection import train_test_split"
   ]
  },
  {
   "cell_type": "markdown",
   "metadata": {},
   "source": [
    "# Build Features from our Text"
   ]
  },
  {
   "cell_type": "code",
   "execution_count": 43,
   "metadata": {},
   "outputs": [],
   "source": [
    "Xfeatures = df['Clean_Text']\n",
    "Ylabels = df['Emotion']"
   ]
  },
  {
   "cell_type": "code",
   "execution_count": 44,
   "metadata": {},
   "outputs": [
    {
     "data": {
      "text/plain": [
       "0                                    didnt feel humiliated\n",
       "1              feeling hopeless damned hopeful cares awake\n",
       "2                im grabbing minute post feel greedy wrong\n",
       "3                                          feeling grouchy\n",
       "4            ive feeling little burdened lately wasnt sure\n",
       "                               ...                        \n",
       "19588          Wenger Paris Cavani ZlatanThen family break\n",
       "19589    Goal level Zlatan k Friday  Posting day DSGS V...\n",
       "19590      surprise enquiredHe cant  happy playing nd f...\n",
       "19591    Rib injury Zlatan Russia big blow misses Austr...\n",
       "19592    Noooooo hoping Zlatan Zlatan Tuesday Oh well l...\n",
       "Name: Clean_Text, Length: 19593, dtype: object"
      ]
     },
     "execution_count": 44,
     "metadata": {},
     "output_type": "execute_result"
    }
   ],
   "source": [
    "Xfeatures"
   ]
  },
  {
   "cell_type": "code",
   "execution_count": 45,
   "metadata": {},
   "outputs": [],
   "source": [
    "cv = CountVectorizer()\n",
    "X = cv.fit_transform(Xfeatures)"
   ]
  },
  {
   "cell_type": "code",
   "execution_count": 46,
   "metadata": {
    "scrolled": true
   },
   "outputs": [
    {
     "data": {
      "text/plain": [
       "['aa',\n",
       " 'aaaaaaand',\n",
       " 'aaaaand',\n",
       " 'aaaah',\n",
       " 'aaaand',\n",
       " 'aac',\n",
       " 'aaron',\n",
       " 'ab',\n",
       " 'abandon',\n",
       " 'abandoned',\n",
       " 'abandoning',\n",
       " 'abandonment',\n",
       " 'abated',\n",
       " 'abbigail',\n",
       " 'abby',\n",
       " 'abc',\n",
       " 'abceyewitness',\n",
       " 'abdomen',\n",
       " 'abdominal',\n",
       " 'abducted',\n",
       " 'abelard',\n",
       " 'abhorrent',\n",
       " 'abide',\n",
       " 'abilities',\n",
       " 'ability',\n",
       " 'abit',\n",
       " 'ablazin',\n",
       " 'able',\n",
       " 'ableness',\n",
       " 'ablo',\n",
       " 'abnormally',\n",
       " 'aboard',\n",
       " 'abominable',\n",
       " 'abortion',\n",
       " 'abortions',\n",
       " 'abou',\n",
       " 'abound',\n",
       " 'about',\n",
       " 'abraham',\n",
       " 'abroad',\n",
       " 'abrupt',\n",
       " 'abruptly',\n",
       " 'absence',\n",
       " 'absoloutely',\n",
       " 'absolute',\n",
       " 'absolutely',\n",
       " 'absolutly',\n",
       " 'absorbed',\n",
       " 'absorption',\n",
       " 'abstain',\n",
       " 'abstinence',\n",
       " 'abstract',\n",
       " 'absurd',\n",
       " 'absurdity',\n",
       " 'abt',\n",
       " 'abtch',\n",
       " 'abundance',\n",
       " 'abuse',\n",
       " 'abused',\n",
       " 'abuses',\n",
       " 'abusing',\n",
       " 'abusive',\n",
       " 'abysmal',\n",
       " 'abyss',\n",
       " 'ac',\n",
       " 'academia',\n",
       " 'academic',\n",
       " 'academics',\n",
       " 'acause',\n",
       " 'accelerated',\n",
       " 'accent',\n",
       " 'accentuating',\n",
       " 'accept',\n",
       " 'acceptable',\n",
       " 'acceptance',\n",
       " 'acceptances',\n",
       " 'accepted',\n",
       " 'accepting',\n",
       " 'accepts',\n",
       " 'access',\n",
       " 'accessibility',\n",
       " 'accessible',\n",
       " 'accessories',\n",
       " 'accessory',\n",
       " 'accident',\n",
       " 'accidentally',\n",
       " 'accidents',\n",
       " 'acclimated',\n",
       " 'acco',\n",
       " 'accommodate',\n",
       " 'accommodation',\n",
       " 'accompanied',\n",
       " 'accompaniment',\n",
       " 'accompany',\n",
       " 'accomplish',\n",
       " 'accomplished',\n",
       " 'accomplishing',\n",
       " 'accomplishment',\n",
       " 'accomplishments',\n",
       " 'accordance',\n",
       " 'according',\n",
       " 'account',\n",
       " 'accounted',\n",
       " 'accounting',\n",
       " 'accounts',\n",
       " 'accrue',\n",
       " 'acctually',\n",
       " 'accumulate',\n",
       " 'accumulated',\n",
       " 'accumulation',\n",
       " 'accurate',\n",
       " 'accurately',\n",
       " 'accusation',\n",
       " 'accused',\n",
       " 'accuser',\n",
       " 'accuses',\n",
       " 'accusing',\n",
       " 'accustomed',\n",
       " 'acdc',\n",
       " 'ace',\n",
       " 'ache',\n",
       " 'ached',\n",
       " 'acheivment',\n",
       " 'aches',\n",
       " 'achieve',\n",
       " 'achieved',\n",
       " 'achievement',\n",
       " 'achievements',\n",
       " 'achieving',\n",
       " 'aching',\n",
       " 'achy',\n",
       " 'acid',\n",
       " 'acim',\n",
       " 'acker',\n",
       " 'acknowledge',\n",
       " 'acknowledged',\n",
       " 'acknowledgement',\n",
       " 'acknowledgment',\n",
       " 'acne',\n",
       " 'aconfident',\n",
       " 'acquaint',\n",
       " 'acquaintances',\n",
       " 'acquainted',\n",
       " 'acquire',\n",
       " 'acquired',\n",
       " 'acquisition',\n",
       " 'acronym',\n",
       " 'act',\n",
       " 'actauly',\n",
       " 'acted',\n",
       " 'acting',\n",
       " 'action',\n",
       " 'actions',\n",
       " 'activations',\n",
       " 'active',\n",
       " 'actively',\n",
       " 'activism',\n",
       " 'activist',\n",
       " 'activists',\n",
       " 'activities',\n",
       " 'activity',\n",
       " 'actor',\n",
       " 'actors',\n",
       " 'actress',\n",
       " 'actresses',\n",
       " 'acts',\n",
       " 'actual',\n",
       " 'actuality',\n",
       " 'actually',\n",
       " 'actuary',\n",
       " 'acuity',\n",
       " 'acumen',\n",
       " 'acutely',\n",
       " 'ad',\n",
       " 'ada',\n",
       " 'adam',\n",
       " 'adams',\n",
       " 'adapted',\n",
       " 'adaption',\n",
       " 'add',\n",
       " 'added',\n",
       " 'addict',\n",
       " 'addicted',\n",
       " 'addiction',\n",
       " 'addictive',\n",
       " 'adding',\n",
       " 'addison',\n",
       " 'addisons',\n",
       " 'addition',\n",
       " 'additional',\n",
       " 'additionally',\n",
       " 'addled',\n",
       " 'address',\n",
       " 'addressed',\n",
       " 'addresses',\n",
       " 'addressing',\n",
       " 'adds',\n",
       " 'ade',\n",
       " 'adequate',\n",
       " 'adequately',\n",
       " 'adhere',\n",
       " 'adherence',\n",
       " 'adidas',\n",
       " 'adjectives',\n",
       " 'adjust',\n",
       " 'adjusting',\n",
       " 'adjustment',\n",
       " 'adjustments',\n",
       " 'admendment',\n",
       " 'admin',\n",
       " 'administration',\n",
       " 'administrator',\n",
       " 'administrators',\n",
       " 'admiration',\n",
       " 'admire',\n",
       " 'admired',\n",
       " 'admires',\n",
       " 'admiring',\n",
       " 'admission',\n",
       " 'admissions',\n",
       " 'admit',\n",
       " 'admits',\n",
       " 'admittance',\n",
       " 'admitted',\n",
       " 'admittedly',\n",
       " 'admitting',\n",
       " 'adn',\n",
       " 'adobe',\n",
       " 'adolescence',\n",
       " 'adomen',\n",
       " 'adopt',\n",
       " 'adopted',\n",
       " 'adopting',\n",
       " 'adoption',\n",
       " 'adorable',\n",
       " 'adore',\n",
       " 'adored',\n",
       " 'adores',\n",
       " 'adoring',\n",
       " 'adrenaline',\n",
       " 'adress',\n",
       " 'adrian',\n",
       " 'adriano',\n",
       " 'adrift',\n",
       " 'ads',\n",
       " 'adsense',\n",
       " 'adult',\n",
       " 'adulthood',\n",
       " 'adults',\n",
       " 'adultshit',\n",
       " 'advance',\n",
       " 'advanced',\n",
       " 'advancement',\n",
       " 'advances',\n",
       " 'advantage',\n",
       " 'adventure',\n",
       " 'adventures',\n",
       " 'adventurous',\n",
       " 'adversary',\n",
       " 'adverse',\n",
       " 'advert',\n",
       " 'advertised',\n",
       " 'advertisement',\n",
       " 'advertisements',\n",
       " 'advertises',\n",
       " 'advertising',\n",
       " 'advertorial',\n",
       " 'adverts',\n",
       " 'advice',\n",
       " 'advil',\n",
       " 'advise',\n",
       " 'advised',\n",
       " 'advises',\n",
       " 'advisor',\n",
       " 'advisors',\n",
       " 'advocacy',\n",
       " 'advocate',\n",
       " 'advocates',\n",
       " 'ae',\n",
       " 'aesthetic',\n",
       " 'aesthetics',\n",
       " 'af',\n",
       " 'afaerytaleinmakebelieve',\n",
       " 'afar',\n",
       " 'afc',\n",
       " 'affair',\n",
       " 'affeccion',\n",
       " 'affect',\n",
       " 'affected',\n",
       " 'affecting',\n",
       " 'affection',\n",
       " 'affectionately',\n",
       " 'affections',\n",
       " 'affects',\n",
       " 'affend',\n",
       " 'affiliate',\n",
       " 'affinity',\n",
       " 'affirm',\n",
       " 'affirmation',\n",
       " 'affirmations',\n",
       " 'affirmative',\n",
       " 'affle',\n",
       " 'afford',\n",
       " 'affordable',\n",
       " 'affords',\n",
       " 'afghan',\n",
       " 'afield',\n",
       " 'afl',\n",
       " 'aflcio',\n",
       " 'aforementioned',\n",
       " 'afp',\n",
       " 'afrad',\n",
       " 'afrade',\n",
       " 'afraid',\n",
       " 'african',\n",
       " 'africans',\n",
       " 'afta',\n",
       " 'after',\n",
       " 'aftereffects',\n",
       " 'aftermath',\n",
       " 'afternoon',\n",
       " 'afternoons',\n",
       " 'afterward',\n",
       " 'ag',\n",
       " 'again',\n",
       " 'age',\n",
       " 'aged',\n",
       " 'ageing',\n",
       " 'agencies',\n",
       " 'agenda',\n",
       " 'agent',\n",
       " 'ages',\n",
       " 'aggeliesergasias',\n",
       " 'aggrandisement',\n",
       " 'aggravated',\n",
       " 'aggression',\n",
       " 'aggressive',\n",
       " 'agiatated',\n",
       " 'agility',\n",
       " 'agitated',\n",
       " 'agn',\n",
       " 'agnostics',\n",
       " 'ago',\n",
       " 'agonised',\n",
       " 'agonising',\n",
       " 'agonized',\n",
       " 'agony',\n",
       " 'agree',\n",
       " 'agreed',\n",
       " 'agreeing',\n",
       " 'agreement',\n",
       " 'agrees',\n",
       " 'agriculture',\n",
       " 'agtalk',\n",
       " 'aguilera',\n",
       " 'ah',\n",
       " 'ahaha',\n",
       " 'ahahahaha',\n",
       " 'ahahahahhha',\n",
       " 'ahead',\n",
       " 'ahem',\n",
       " 'ahhh',\n",
       " 'ahkman',\n",
       " 'ai',\n",
       " 'aid',\n",
       " 'aided',\n",
       " 'aids',\n",
       " 'aiiiiighhhht',\n",
       " 'ailments',\n",
       " 'ails',\n",
       " 'aim',\n",
       " 'aimed',\n",
       " 'aiming',\n",
       " 'aimlessly',\n",
       " 'aims',\n",
       " 'aint',\n",
       " 'air',\n",
       " 'airbrushing',\n",
       " 'airbus',\n",
       " 'aircleaner',\n",
       " 'aired',\n",
       " 'airing',\n",
       " 'airplane',\n",
       " 'airport',\n",
       " 'airports',\n",
       " 'airritated',\n",
       " 'airstrikes',\n",
       " 'airtel',\n",
       " 'airtelsba',\n",
       " 'airtime',\n",
       " 'aiw',\n",
       " 'ajmed',\n",
       " 'aka',\n",
       " 'akin',\n",
       " 'ako',\n",
       " 'akron',\n",
       " 'akshay',\n",
       " 'aku',\n",
       " 'akward',\n",
       " 'al',\n",
       " 'alabama',\n",
       " 'alan',\n",
       " 'alarm',\n",
       " 'alarmed',\n",
       " 'alaska',\n",
       " 'alb',\n",
       " 'alba',\n",
       " 'albeit',\n",
       " 'alberta',\n",
       " 'albino',\n",
       " 'album',\n",
       " 'albumnot',\n",
       " 'albums',\n",
       " 'albuquerque',\n",
       " 'alcatellucent',\n",
       " 'alcest',\n",
       " 'alcohol',\n",
       " 'alcoholic',\n",
       " 'alcoholism',\n",
       " 'alec',\n",
       " 'alert',\n",
       " 'alertness',\n",
       " 'alex',\n",
       " 'alexa',\n",
       " 'alexis',\n",
       " 'alfie',\n",
       " 'algebaaaabut',\n",
       " 'algebra',\n",
       " 'algorithmic',\n",
       " 'alhamdulillah',\n",
       " 'ali',\n",
       " 'alibi',\n",
       " 'alice',\n",
       " 'alien',\n",
       " 'aliens',\n",
       " 'alight',\n",
       " 'align',\n",
       " 'aligncenter',\n",
       " 'alignment',\n",
       " 'alike',\n",
       " 'alise',\n",
       " 'alittle',\n",
       " 'alive',\n",
       " 'all',\n",
       " 'allah',\n",
       " 'allegation',\n",
       " 'allege',\n",
       " 'alleges',\n",
       " 'allergen',\n",
       " 'allergic',\n",
       " 'allergies',\n",
       " 'allergy',\n",
       " 'alley',\n",
       " 'alleys',\n",
       " 'alli',\n",
       " 'alliance',\n",
       " 'allies',\n",
       " 'allireland',\n",
       " 'allocated',\n",
       " 'allow',\n",
       " 'allowable',\n",
       " 'allowances',\n",
       " 'allowed',\n",
       " 'allowing',\n",
       " 'allows',\n",
       " 'alls',\n",
       " 'allthingsbucks',\n",
       " 'alltime',\n",
       " 'allusion',\n",
       " 'almond',\n",
       " 'almost',\n",
       " 'aloft',\n",
       " 'alone',\n",
       " 'alonger',\n",
       " 'alongside',\n",
       " 'aloof',\n",
       " 'alot',\n",
       " 'alotta',\n",
       " 'alphabet',\n",
       " 'alright',\n",
       " 'also',\n",
       " 'alsways',\n",
       " 'alt',\n",
       " 'altar',\n",
       " 'altarserver',\n",
       " 'alteration',\n",
       " 'alterations',\n",
       " 'altered',\n",
       " 'alternate',\n",
       " 'alternated',\n",
       " 'alternating',\n",
       " 'alternative',\n",
       " 'alternatives',\n",
       " 'altho',\n",
       " 'altitudes',\n",
       " 'altogether',\n",
       " 'aluminum',\n",
       " 'alumninium',\n",
       " 'alva',\n",
       " 'alway',\n",
       " 'am',\n",
       " 'amateur',\n",
       " 'amazed',\n",
       " 'amazing',\n",
       " 'amazingly',\n",
       " 'amazingness',\n",
       " 'amazon',\n",
       " 'ambassador',\n",
       " 'amber',\n",
       " 'ambience',\n",
       " 'ambient',\n",
       " 'ambition',\n",
       " 'ambitions',\n",
       " 'ambitious',\n",
       " 'ambleside',\n",
       " 'ambulance',\n",
       " 'ambulatory',\n",
       " 'ambushed',\n",
       " 'amd',\n",
       " 'amen',\n",
       " 'amend',\n",
       " 'amendment',\n",
       " 'amendments',\n",
       " 'amendmentso',\n",
       " 'amenities',\n",
       " 'america',\n",
       " 'american',\n",
       " 'americana',\n",
       " 'americans',\n",
       " 'americas',\n",
       " 'amid',\n",
       " 'amiibo',\n",
       " 'amish',\n",
       " 'amisha',\n",
       " 'amiss',\n",
       " 'amits',\n",
       " 'amkris',\n",
       " 'amma',\n",
       " 'amman',\n",
       " 'amnesty',\n",
       " 'amorphous',\n",
       " 'amos',\n",
       " 'amounting',\n",
       " 'amounts',\n",
       " 'amp',\n",
       " 'amparo',\n",
       " 'ampatuan',\n",
       " 'amped',\n",
       " 'ampgermophobeamp',\n",
       " 'amphitheatre',\n",
       " 'ample',\n",
       " 'amplified',\n",
       " 'amploverdos',\n",
       " 'ampnbsp',\n",
       " 'amsterdam',\n",
       " 'amud',\n",
       " 'amused',\n",
       " 'amusing',\n",
       " 'amvassago',\n",
       " 'amwriting',\n",
       " 'amwritingfantasy',\n",
       " 'amy',\n",
       " 'an',\n",
       " 'anal',\n",
       " 'analasys',\n",
       " 'analogy',\n",
       " 'analyse',\n",
       " 'analysing',\n",
       " 'analysis',\n",
       " 'analyst',\n",
       " 'analysts',\n",
       " 'analystst',\n",
       " 'analyze',\n",
       " 'analyzed',\n",
       " 'analyzing',\n",
       " 'anansi',\n",
       " 'anatomy',\n",
       " 'anc',\n",
       " 'anchorage',\n",
       " 'anchoring',\n",
       " 'ancient',\n",
       " 'ancients',\n",
       " 'and',\n",
       " 'andangry',\n",
       " 'anderson',\n",
       " 'andhedid',\n",
       " 'andintrupte',\n",
       " 'andor',\n",
       " 'andover',\n",
       " 'andre',\n",
       " 'andrea',\n",
       " 'andreas',\n",
       " 'andrew',\n",
       " 'andri',\n",
       " 'android',\n",
       " 'andthatshowtheriotstarted',\n",
       " 'andthenwear',\n",
       " 'andy',\n",
       " 'anel',\n",
       " 'anesthetized',\n",
       " 'angel',\n",
       " 'angela',\n",
       " 'angeles',\n",
       " 'angelic',\n",
       " 'angels',\n",
       " 'anger',\n",
       " 'angered',\n",
       " 'angering',\n",
       " 'angie',\n",
       " 'angle',\n",
       " 'angled',\n",
       " 'angles',\n",
       " 'angola',\n",
       " 'angry',\n",
       " 'angst',\n",
       " 'angsty',\n",
       " 'anguish',\n",
       " 'anguished',\n",
       " 'anha',\n",
       " 'animal',\n",
       " 'animals',\n",
       " 'animate',\n",
       " 'animators',\n",
       " 'anime',\n",
       " 'animosity',\n",
       " 'anipike',\n",
       " 'ankle',\n",
       " 'ankles',\n",
       " 'anklets',\n",
       " 'ann',\n",
       " 'anna',\n",
       " 'anne',\n",
       " 'annie',\n",
       " 'anniversary',\n",
       " 'annotation',\n",
       " 'announce',\n",
       " 'announced',\n",
       " 'announcement',\n",
       " 'announcements',\n",
       " 'announces',\n",
       " 'announcing',\n",
       " 'annoy',\n",
       " 'annoyance',\n",
       " 'annoyed',\n",
       " 'annoying',\n",
       " 'annoyingly',\n",
       " 'annual',\n",
       " 'annuals',\n",
       " 'annulled',\n",
       " 'annulling',\n",
       " 'annulment',\n",
       " 'annulments',\n",
       " 'ano',\n",
       " 'anon',\n",
       " 'anonymity',\n",
       " 'anonymous',\n",
       " 'anotehr',\n",
       " 'another',\n",
       " 'anothers',\n",
       " 'ansi',\n",
       " 'answer',\n",
       " 'answered',\n",
       " 'answering',\n",
       " 'answers',\n",
       " 'ant',\n",
       " 'antagonism',\n",
       " 'anthem',\n",
       " 'anthology',\n",
       " 'anthracite',\n",
       " 'anti',\n",
       " 'anticipated',\n",
       " 'anticipating',\n",
       " 'anticipation',\n",
       " 'antics',\n",
       " 'antidepressants',\n",
       " 'antiest',\n",
       " 'antiiran',\n",
       " 'antipasti',\n",
       " 'antiquities',\n",
       " 'antirape',\n",
       " 'antisocial',\n",
       " 'antiterror',\n",
       " 'antivirus',\n",
       " 'antm',\n",
       " 'antoinette',\n",
       " 'antonio',\n",
       " 'antonios',\n",
       " 'antsy',\n",
       " 'anxieties',\n",
       " 'anxiety',\n",
       " 'anxious',\n",
       " 'anxiously',\n",
       " 'anybody',\n",
       " 'anymmore',\n",
       " 'anymore',\n",
       " 'anyone',\n",
       " 'anyones',\n",
       " 'anyonr',\n",
       " 'anything',\n",
       " 'anythings',\n",
       " 'anyway',\n",
       " 'anyways',\n",
       " 'aoa',\n",
       " 'aol',\n",
       " 'aoshi',\n",
       " 'aout',\n",
       " 'apart',\n",
       " 'apartment',\n",
       " 'apathetic',\n",
       " 'apathy',\n",
       " 'apawa',\n",
       " 'apaya',\n",
       " 'apc',\n",
       " 'apendages',\n",
       " 'apgujeong',\n",
       " 'api',\n",
       " 'apis',\n",
       " 'apjeae',\n",
       " 'apocalypses',\n",
       " 'apoel',\n",
       " 'apologetic',\n",
       " 'apologies',\n",
       " 'apologise',\n",
       " 'apologize',\n",
       " 'apologizes',\n",
       " 'apologizing',\n",
       " 'apology',\n",
       " 'apostrophe',\n",
       " 'apothecary',\n",
       " 'app',\n",
       " 'appalled',\n",
       " 'apparent',\n",
       " 'apparently',\n",
       " 'appeal',\n",
       " 'appealing',\n",
       " 'appeals',\n",
       " 'appear',\n",
       " 'appearanc',\n",
       " 'appearance',\n",
       " 'appearances',\n",
       " 'appeared',\n",
       " 'appearing',\n",
       " 'appears',\n",
       " 'appeased',\n",
       " 'appetite',\n",
       " 'applainces',\n",
       " 'applause',\n",
       " 'apple',\n",
       " 'applebees',\n",
       " 'appleevent',\n",
       " 'apples',\n",
       " 'applewatch',\n",
       " 'application',\n",
       " 'applications',\n",
       " 'applied',\n",
       " 'applies',\n",
       " 'appln',\n",
       " 'apply',\n",
       " 'applying',\n",
       " 'appointed',\n",
       " 'appointment',\n",
       " 'appointments',\n",
       " 'apppearing',\n",
       " 'appreciate',\n",
       " 'appreciated',\n",
       " 'appreciates',\n",
       " 'appreciation',\n",
       " 'appreciative',\n",
       " 'apprehensive',\n",
       " 'appriciation',\n",
       " 'apprised',\n",
       " 'approach',\n",
       " 'approached',\n",
       " 'approaches',\n",
       " 'approaching',\n",
       " 'appropriate',\n",
       " 'appropriately',\n",
       " 'approval',\n",
       " 'approved',\n",
       " 'approx',\n",
       " 'approximate',\n",
       " 'approximately',\n",
       " 'apps',\n",
       " 'appts',\n",
       " 'apraxia',\n",
       " 'april',\n",
       " 'apron',\n",
       " 'apt',\n",
       " 'aqua',\n",
       " 'arab',\n",
       " 'arabia',\n",
       " 'arabs',\n",
       " 'arc',\n",
       " 'arcade',\n",
       " 'arched',\n",
       " 'archeological',\n",
       " 'arches',\n",
       " 'archies',\n",
       " 'architecturally',\n",
       " 'ardmore',\n",
       " 'area',\n",
       " 'areas',\n",
       " 'arena',\n",
       " 'arent',\n",
       " 'aretha',\n",
       " 'arf',\n",
       " 'arg',\n",
       " 'argentina',\n",
       " 'arguably',\n",
       " 'argue',\n",
       " 'argued',\n",
       " 'argues',\n",
       " 'arguing',\n",
       " 'argument',\n",
       " 'arguments',\n",
       " 'ari',\n",
       " 'ariel',\n",
       " 'arise',\n",
       " 'arist',\n",
       " 'arlovski',\n",
       " 'arm',\n",
       " 'armani',\n",
       " 'armed',\n",
       " 'armistice',\n",
       " 'armor',\n",
       " 'armpits',\n",
       " 'arms',\n",
       " 'army',\n",
       " 'arose',\n",
       " 'around',\n",
       " 'arouse',\n",
       " 'aroused',\n",
       " 'arousing',\n",
       " 'arrange',\n",
       " 'arranged',\n",
       " 'arrangement',\n",
       " 'arrangment',\n",
       " 'array',\n",
       " 'arrest',\n",
       " 'arrises',\n",
       " 'arrival',\n",
       " 'arrivals',\n",
       " 'arrive',\n",
       " 'arrived',\n",
       " 'arrives',\n",
       " 'arriving',\n",
       " 'arrogance',\n",
       " 'arrogant',\n",
       " 'arrow',\n",
       " 'ars',\n",
       " 'arse',\n",
       " 'arsenal',\n",
       " 'arsene',\n",
       " 'art',\n",
       " 'artefacts',\n",
       " 'artemis',\n",
       " 'article',\n",
       " 'articles',\n",
       " 'articulacy',\n",
       " 'articulate',\n",
       " 'articulated',\n",
       " 'articulating',\n",
       " 'artifically',\n",
       " 'artificial',\n",
       " 'artificially',\n",
       " 'artisan',\n",
       " 'artisans',\n",
       " 'artist',\n",
       " 'artistic',\n",
       " 'artistry',\n",
       " 'artists',\n",
       " 'arts',\n",
       " 'artwork',\n",
       " 'arty',\n",
       " 'arugh',\n",
       " 'arun',\n",
       " 'ary',\n",
       " 'aryans',\n",
       " 'aryiku',\n",
       " 'as',\n",
       " 'asa',\n",
       " 'asami',\n",
       " 'asapthanks',\n",
       " 'asbestos',\n",
       " 'ascension',\n",
       " 'asciatic',\n",
       " 'asd',\n",
       " 'ash',\n",
       " 'ashame',\n",
       " 'ashamed',\n",
       " 'ashers',\n",
       " 'ashes',\n",
       " 'ashley',\n",
       " 'ashlotte',\n",
       " 'ashraf',\n",
       " 'ashton',\n",
       " 'ashtray',\n",
       " 'asian',\n",
       " 'asians',\n",
       " 'asiaworld',\n",
       " 'aside',\n",
       " 'asim',\n",
       " 'ask',\n",
       " 'asked',\n",
       " 'asking',\n",
       " 'askmusicnewsfacts',\n",
       " 'asks',\n",
       " 'asksos',\n",
       " 'asleep',\n",
       " 'aspect',\n",
       " 'aspects',\n",
       " 'asphalt',\n",
       " 'aspi',\n",
       " 'aspieness',\n",
       " 'aspire',\n",
       " 'asroma',\n",
       " 'ass',\n",
       " 'assassinated',\n",
       " 'assault',\n",
       " 'assaulted',\n",
       " 'assaulting',\n",
       " 'assaults',\n",
       " 'assemble',\n",
       " 'assemblies',\n",
       " 'assert',\n",
       " 'asserted',\n",
       " 'asserting',\n",
       " 'assertion',\n",
       " 'assertive',\n",
       " 'asserts',\n",
       " 'asses',\n",
       " 'assess',\n",
       " 'assessed',\n",
       " 'assessment',\n",
       " 'assessments',\n",
       " 'assessor',\n",
       " 'asset',\n",
       " 'asshole',\n",
       " 'assholes',\n",
       " 'assignment',\n",
       " 'assignments',\n",
       " 'assimilated',\n",
       " 'assist',\n",
       " 'assistance',\n",
       " 'assistant',\n",
       " 'assistants',\n",
       " 'assistat',\n",
       " 'assisted',\n",
       " 'associate',\n",
       " 'associated',\n",
       " 'association',\n",
       " 'associations',\n",
       " 'assuage',\n",
       " 'assume',\n",
       " 'assumed',\n",
       " 'assuming',\n",
       " 'assumption',\n",
       " 'assumptions',\n",
       " 'assurance',\n",
       " 'assure',\n",
       " 'assured',\n",
       " 'assuredly',\n",
       " 'asthma',\n",
       " 'astonishment',\n",
       " 'astray',\n",
       " 'asylum',\n",
       " 'at',\n",
       " 'ata',\n",
       " 'atampt',\n",
       " 'atari',\n",
       " 'ate',\n",
       " 'atelier',\n",
       " 'atell',\n",
       " 'atention',\n",
       " 'ath',\n",
       " 'athe',\n",
       " 'atheism',\n",
       " 'atheist',\n",
       " 'atheists',\n",
       " 'athens',\n",
       " 'athensismailia',\n",
       " 'athlete',\n",
       " 'athletes',\n",
       " 'athletic',\n",
       " 'athleticism',\n",
       " 'athletics',\n",
       " 'atiqah',\n",
       " 'ativan',\n",
       " 'atl',\n",
       " 'atlanta',\n",
       " 'atlantic',\n",
       " 'atleast',\n",
       " 'atlephobia',\n",
       " 'atm',\n",
       " 'atmosphere',\n",
       " 'atom',\n",
       " 'atoshealthcare',\n",
       " 'atrack',\n",
       " 'atrocious',\n",
       " 'atrophies',\n",
       " ...]"
      ]
     },
     "execution_count": 46,
     "metadata": {},
     "output_type": "execute_result"
    }
   ],
   "source": [
    "#Get features\n",
    "cv.get_feature_names()"
   ]
  },
  {
   "cell_type": "code",
   "execution_count": 47,
   "metadata": {},
   "outputs": [],
   "source": [
    "#Split Dataset\n",
    "X_train, X_test, Y_train, Y_test = train_test_split(X, Ylabels, test_size=0.3, random_state=42)"
   ]
  },
  {
   "cell_type": "markdown",
   "metadata": {},
   "source": [
    "# Building Machine Learning Model"
   ]
  },
  {
   "cell_type": "code",
   "execution_count": 48,
   "metadata": {},
   "outputs": [
    {
     "data": {
      "text/plain": [
       "MultinomialNB(alpha=1.0, class_prior=None, fit_prior=True)"
      ]
     },
     "execution_count": 48,
     "metadata": {},
     "output_type": "execute_result"
    }
   ],
   "source": [
    "#Training the Naive Bayes model\n",
    "nv_model = MultinomialNB()\n",
    "nv_model.fit(X_train, Y_train)"
   ]
  },
  {
   "cell_type": "code",
   "execution_count": 49,
   "metadata": {},
   "outputs": [
    {
     "data": {
      "text/plain": [
       "85.59033684926845"
      ]
     },
     "execution_count": 49,
     "metadata": {},
     "output_type": "execute_result"
    }
   ],
   "source": [
    "#Checking the accuracy\n",
    "nv_model.score(X_test, Y_test) * 100"
   ]
  },
  {
   "cell_type": "code",
   "execution_count": 50,
   "metadata": {},
   "outputs": [],
   "source": [
    "#Predictions\n",
    "y_pred_for_nv = nv_model.predict(X_test)"
   ]
  },
  {
   "cell_type": "code",
   "execution_count": 51,
   "metadata": {},
   "outputs": [
    {
     "data": {
      "text/plain": [
       "array(['fear', 'neutral', 'sadness', ..., 'sadness', 'joy', 'anger'],\n",
       "      dtype='<U7')"
      ]
     },
     "execution_count": 51,
     "metadata": {},
     "output_type": "execute_result"
    }
   ],
   "source": [
    "y_pred_for_nv"
   ]
  },
  {
   "cell_type": "markdown",
   "metadata": {},
   "source": [
    "# Make a single prediction\n",
    "\n",
    "+ Vectorized our text\n",
    "+ Applied our model"
   ]
  },
  {
   "cell_type": "code",
   "execution_count": 52,
   "metadata": {},
   "outputs": [],
   "source": [
    "sample_text = [\"It was a bad day for me\"]"
   ]
  },
  {
   "cell_type": "code",
   "execution_count": 53,
   "metadata": {},
   "outputs": [],
   "source": [
    "vect_text = cv.transform(sample_text).toarray()"
   ]
  },
  {
   "cell_type": "code",
   "execution_count": 54,
   "metadata": {},
   "outputs": [
    {
     "data": {
      "text/plain": [
       "array(['neutral'], dtype='<U7')"
      ]
     },
     "execution_count": 54,
     "metadata": {},
     "output_type": "execute_result"
    }
   ],
   "source": [
    "nv_model.predict(vect_text)"
   ]
  },
  {
   "cell_type": "code",
   "execution_count": 55,
   "metadata": {},
   "outputs": [],
   "source": [
    "def predict_emotion(sample_text):\n",
    "    vect_text = cv.transform(sample_text).toarray()\n",
    "    arr = nv_model.predict(vect_text)\n",
    "    return arr[0]"
   ]
  },
  {
   "cell_type": "code",
   "execution_count": 56,
   "metadata": {},
   "outputs": [
    {
     "name": "stdout",
     "output_type": "stream",
     "text": [
      "sadness\n"
     ]
    }
   ],
   "source": [
    "print(predict_emotion([\"i had a really boring week\"]))"
   ]
  },
  {
   "cell_type": "markdown",
   "metadata": {},
   "source": [
    "# Model Evaluation"
   ]
  },
  {
   "cell_type": "code",
   "execution_count": 57,
   "metadata": {},
   "outputs": [
    {
     "name": "stdout",
     "output_type": "stream",
     "text": [
      "              precision    recall  f1-score   support\n",
      "\n",
      "       anger       0.93      0.65      0.77       812\n",
      "        fear       0.91      0.56      0.69       713\n",
      "         joy       0.86      0.95      0.90      1988\n",
      "     neutral       0.99      0.95      0.97       572\n",
      "     sadness       0.79      0.93      0.85      1793\n",
      "\n",
      "    accuracy                           0.86      5878\n",
      "   macro avg       0.90      0.81      0.84      5878\n",
      "weighted avg       0.87      0.86      0.85      5878\n",
      "\n"
     ]
    }
   ],
   "source": [
    "#Classification\n",
    "print(classification_report(Y_test, y_pred_for_nv))"
   ]
  },
  {
   "cell_type": "markdown",
   "metadata": {},
   "source": [
    "# Saving the model"
   ]
  },
  {
   "cell_type": "code",
   "execution_count": 58,
   "metadata": {},
   "outputs": [],
   "source": [
    "# import joblib"
   ]
  },
  {
   "cell_type": "code",
   "execution_count": 59,
   "metadata": {},
   "outputs": [],
   "source": [
    "# model_file = open(\"emotion_classifier_nv_model_30_nov_2021.pkl\",\"wb\")\n",
    "# joblib.dump(nv_model, model_file)\n",
    "# model_file.close()"
   ]
  },
  {
   "cell_type": "markdown",
   "metadata": {},
   "source": [
    "# Cleaning Tweets"
   ]
  },
  {
   "cell_type": "code",
   "execution_count": 60,
   "metadata": {},
   "outputs": [],
   "source": [
    "tDF['Clean_Tweet'] = tDF['Tweet'].apply(nfx.remove_urls)\n",
    "tDF['Clean_Tweet'] = tDF['Clean_Tweet'].apply(nfx.remove_stopwords)\n",
    "tDF['Clean_Tweet'] = tDF['Clean_Tweet'].apply(nfx.remove_punctuations)\n",
    "tDF['Clean_Tweet'] = tDF['Clean_Tweet'].apply(nfx.remove_userhandles)\n",
    "tDF['Clean_Tweet'] = tDF['Clean_Tweet'].apply(nfx.remove_special_characters)\n",
    "tDF['Clean_Tweet'] = tDF['Clean_Tweet'].apply(nfx.remove_numbers)"
   ]
  },
  {
   "cell_type": "markdown",
   "metadata": {},
   "source": [
    "# Using the twitter DataFrame to get emotions of all tweets"
   ]
  },
  {
   "cell_type": "code",
   "execution_count": 61,
   "metadata": {},
   "outputs": [],
   "source": [
    "def getResult():\n",
    "    result = []\n",
    "    for i in range(0, len(tDF)):\n",
    "        result.append(predict_emotion([tDF['Clean_Tweet'][i]]))\n",
    "    return pd.Series(result)"
   ]
  },
  {
   "cell_type": "code",
   "execution_count": 62,
   "metadata": {},
   "outputs": [],
   "source": [
    "tDF['Emotion'] = getResult()"
   ]
  },
  {
   "cell_type": "code",
   "execution_count": 63,
   "metadata": {},
   "outputs": [
    {
     "data": {
      "text/html": [
       "<div>\n",
       "<style scoped>\n",
       "    .dataframe tbody tr th:only-of-type {\n",
       "        vertical-align: middle;\n",
       "    }\n",
       "\n",
       "    .dataframe tbody tr th {\n",
       "        vertical-align: top;\n",
       "    }\n",
       "\n",
       "    .dataframe thead th {\n",
       "        text-align: right;\n",
       "    }\n",
       "</style>\n",
       "<table border=\"1\" class=\"dataframe\">\n",
       "  <thead>\n",
       "    <tr style=\"text-align: right;\">\n",
       "      <th></th>\n",
       "      <th>S_No</th>\n",
       "      <th>Tweet</th>\n",
       "      <th>Clean_Tweet</th>\n",
       "      <th>Emotion</th>\n",
       "    </tr>\n",
       "  </thead>\n",
       "  <tbody>\n",
       "    <tr>\n",
       "      <th>0</th>\n",
       "      <td>0</td>\n",
       "      <td>We’ve built an incredible organization in the ...</td>\n",
       "      <td>Weve built incredible organization   decades I...</td>\n",
       "      <td>joy</td>\n",
       "    </tr>\n",
       "    <tr>\n",
       "      <th>1</th>\n",
       "      <td>1</td>\n",
       "      <td>Kakenya Ntaiya bravely defied local traditions...</td>\n",
       "      <td>Kakenya Ntaiya bravely defied local traditions...</td>\n",
       "      <td>joy</td>\n",
       "    </tr>\n",
       "    <tr>\n",
       "      <th>2</th>\n",
       "      <td>2</td>\n",
       "      <td>One person’s act of bravery can spark dramatic...</td>\n",
       "      <td>persons act bravery spark dramatic change hund...</td>\n",
       "      <td>joy</td>\n",
       "    </tr>\n",
       "    <tr>\n",
       "      <th>3</th>\n",
       "      <td>3</td>\n",
       "      <td>This is an important reminder from @rajpanjabi...</td>\n",
       "      <td>important reminder   world choose saving lives...</td>\n",
       "      <td>joy</td>\n",
       "    </tr>\n",
       "    <tr>\n",
       "      <th>4</th>\n",
       "      <td>4</td>\n",
       "      <td>I wholeheartedly agree with Larry's view that ...</td>\n",
       "      <td>wholeheartedly agree Larrys view companies nee...</td>\n",
       "      <td>joy</td>\n",
       "    </tr>\n",
       "    <tr>\n",
       "      <th>...</th>\n",
       "      <td>...</td>\n",
       "      <td>...</td>\n",
       "      <td>...</td>\n",
       "      <td>...</td>\n",
       "    </tr>\n",
       "    <tr>\n",
       "      <th>95</th>\n",
       "      <td>95</td>\n",
       "      <td>Getting to zero emissions will be the hardest ...</td>\n",
       "      <td>Getting zero emissions hardest thing people do...</td>\n",
       "      <td>joy</td>\n",
       "    </tr>\n",
       "    <tr>\n",
       "      <th>96</th>\n",
       "      <td>96</td>\n",
       "      <td>I was truly inspired to hear @Vinisha27738476 ...</td>\n",
       "      <td>truly inspired hear   speak COP week optimism ...</td>\n",
       "      <td>joy</td>\n",
       "    </tr>\n",
       "    <tr>\n",
       "      <th>97</th>\n",
       "      <td>97</td>\n",
       "      <td>Thank you, @SecGranholm for your leadership. T...</td>\n",
       "      <td>Thank you   leadership commitment   innovate s...</td>\n",
       "      <td>neutral</td>\n",
       "    </tr>\n",
       "    <tr>\n",
       "      <th>98</th>\n",
       "      <td>98</td>\n",
       "      <td>Public-private collaborations will be critical...</td>\n",
       "      <td>Publicprivate collaborations critical reducing...</td>\n",
       "      <td>neutral</td>\n",
       "    </tr>\n",
       "    <tr>\n",
       "      <th>99</th>\n",
       "      <td>99</td>\n",
       "      <td>I’m excited about @Breakthrough Energy’s expan...</td>\n",
       "      <td>Im excited   Energys expanded work   Thank you...</td>\n",
       "      <td>joy</td>\n",
       "    </tr>\n",
       "  </tbody>\n",
       "</table>\n",
       "<p>100 rows × 4 columns</p>\n",
       "</div>"
      ],
      "text/plain": [
       "    S_No                                              Tweet  \\\n",
       "0      0  We’ve built an incredible organization in the ...   \n",
       "1      1  Kakenya Ntaiya bravely defied local traditions...   \n",
       "2      2  One person’s act of bravery can spark dramatic...   \n",
       "3      3  This is an important reminder from @rajpanjabi...   \n",
       "4      4  I wholeheartedly agree with Larry's view that ...   \n",
       "..   ...                                                ...   \n",
       "95    95  Getting to zero emissions will be the hardest ...   \n",
       "96    96  I was truly inspired to hear @Vinisha27738476 ...   \n",
       "97    97  Thank you, @SecGranholm for your leadership. T...   \n",
       "98    98  Public-private collaborations will be critical...   \n",
       "99    99  I’m excited about @Breakthrough Energy’s expan...   \n",
       "\n",
       "                                          Clean_Tweet  Emotion  \n",
       "0   Weve built incredible organization   decades I...      joy  \n",
       "1   Kakenya Ntaiya bravely defied local traditions...      joy  \n",
       "2   persons act bravery spark dramatic change hund...      joy  \n",
       "3   important reminder   world choose saving lives...      joy  \n",
       "4   wholeheartedly agree Larrys view companies nee...      joy  \n",
       "..                                                ...      ...  \n",
       "95  Getting zero emissions hardest thing people do...      joy  \n",
       "96  truly inspired hear   speak COP week optimism ...      joy  \n",
       "97  Thank you   leadership commitment   innovate s...  neutral  \n",
       "98  Publicprivate collaborations critical reducing...  neutral  \n",
       "99  Im excited   Energys expanded work   Thank you...      joy  \n",
       "\n",
       "[100 rows x 4 columns]"
      ]
     },
     "execution_count": 63,
     "metadata": {},
     "output_type": "execute_result"
    }
   ],
   "source": [
    "tDF"
   ]
  }
 ],
 "metadata": {
  "kernelspec": {
   "display_name": "Python 3",
   "language": "python",
   "name": "python3"
  },
  "language_info": {
   "codemirror_mode": {
    "name": "ipython",
    "version": 3
   },
   "file_extension": ".py",
   "mimetype": "text/x-python",
   "name": "python",
   "nbconvert_exporter": "python",
   "pygments_lexer": "ipython3",
   "version": "3.7.6"
  }
 },
 "nbformat": 4,
 "nbformat_minor": 5
}
